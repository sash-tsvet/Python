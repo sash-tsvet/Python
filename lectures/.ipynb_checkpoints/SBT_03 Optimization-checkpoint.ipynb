{
 "cells": [
  {
   "cell_type": "markdown",
   "metadata": {},
   "source": [
    "# Решение оптимизационных задач в SciPy"
   ]
  },
  {
   "cell_type": "markdown",
   "metadata": {},
   "source": [
    "Импортируем модуль для решения оптимизационных задач из библиотеки SciPy и определим функцию, на которой будем тестировать методы. Это будет функция Розенброка, на которой часто тестируют алгоритмы оптимизации. Она имеет минимум в точке (1, 1) и очень пологий \"желоб\" в котором этот минимум находится."
   ]
  },
  {
   "cell_type": "code",
   "execution_count": 1,
   "metadata": {
    "collapsed": false
   },
   "outputs": [
    {
     "data": {
      "text/plain": [
       "0.0"
      ]
     },
     "execution_count": 1,
     "metadata": {},
     "output_type": "execute_result"
    }
   ],
   "source": [
    "from scipy import optimize\n",
    "\n",
    "def f(x):   # The rosenbrock function\n",
    "     return .5*(1 - x[0])**2 + (x[1] - x[0]**2)**2\n",
    "    \n",
    "f([1, 1])"
   ]
  },
  {
   "cell_type": "markdown",
   "metadata": {},
   "source": [
    "Для начала посмотрим, что дает простой перебор из той же библиотеки:"
   ]
  },
  {
   "cell_type": "code",
   "execution_count": 19,
   "metadata": {
    "collapsed": false
   },
   "outputs": [
    {
     "data": {
      "text/plain": [
       "array([ 1.00001462,  1.00001547])"
      ]
     },
     "execution_count": 19,
     "metadata": {},
     "output_type": "execute_result"
    }
   ],
   "source": [
    "optimize.brute(f, ((-1, 2), (-1, 2)))"
   ]
  },
  {
   "cell_type": "markdown",
   "metadata": {},
   "source": [
    "Если функция очень зашумленная и ни о какой гладкости нет и речи, может быть полезен метод иммитации отжига (anneal simulation). Однако для гладких функций результат применения отжига обычно не впечатляет:"
   ]
  },
  {
   "cell_type": "code",
   "execution_count": 20,
   "metadata": {
    "collapsed": false
   },
   "outputs": [
    {
     "name": "stdout",
     "output_type": "stream",
     "text": [
      "Warning: Cooled to 4785.003119 at [   58.8369672   3405.99941162] but this is not the smallest point found.\n"
     ]
    },
    {
     "data": {
      "text/plain": [
       "(array([ -16.00743456,  248.851836  ]), 5)"
      ]
     },
     "execution_count": 20,
     "metadata": {},
     "output_type": "execute_result"
    }
   ],
   "source": [
    "from scipy import optimize\n",
    "\n",
    "optimize.anneal(f, [2, 2])"
   ]
  },
  {
   "cell_type": "markdown",
   "metadata": {},
   "source": [
    "Добавим функцию, вычисляющую градиент функции Розенброка:"
   ]
  },
  {
   "cell_type": "code",
   "execution_count": 2,
   "metadata": {
    "collapsed": false
   },
   "outputs": [],
   "source": [
    "import numpy as np\n",
    "\n",
    "def fprime(x):\n",
    "        return np.array((-2*.5*(1 - x[0]) - 4*x[0]*(x[1] - x[0]**2), 2*(x[1] - x[0]**2)))"
   ]
  },
  {
   "cell_type": "markdown",
   "metadata": {},
   "source": [
    "Разработчики SciPy позаботились о том, чтобы мы не пытались что-то решать с неправильно посчитанным градиентом и предусмотрели функцию проверки градиента. Она возвращает норму разности нашего градиента и оцененного численно (в заданной точке, в данном случае - [2 2])."
   ]
  },
  {
   "cell_type": "code",
   "execution_count": 8,
   "metadata": {
    "collapsed": false
   },
   "outputs": [
    {
     "data": {
      "text/plain": [
       "2.384185791015625e-07"
      ]
     },
     "execution_count": 8,
     "metadata": {},
     "output_type": "execute_result"
    }
   ],
   "source": [
    "optimize.check_grad(f, fprime, [2, 2])"
   ]
  },
  {
   "cell_type": "markdown",
   "metadata": {},
   "source": [
    "Если функция у вас гладкая, даже если нет посчитанного градиента (в нашем случае вы можете передать градиент как параметр функции fmin_bfgs), пользуйтесь по умолчанию bfgs или его вариациями:"
   ]
  },
  {
   "cell_type": "code",
   "execution_count": 6,
   "metadata": {
    "collapsed": false
   },
   "outputs": [
    {
     "name": "stdout",
     "output_type": "stream",
     "text": [
      "Optimization terminated successfully.\n",
      "         Current function value: 0.000000\n",
      "         Iterations: 16\n",
      "         Function evaluations: 96\n",
      "         Gradient evaluations: 24\n"
     ]
    },
    {
     "data": {
      "text/plain": [
       "array([ 1.00000007,  1.00000005])"
      ]
     },
     "execution_count": 6,
     "metadata": {},
     "output_type": "execute_result"
    }
   ],
   "source": [
    "\n",
    "optimize.fmin_bfgs(f, [2, 2])"
   ]
  },
  {
   "cell_type": "markdown",
   "metadata": {},
   "source": [
    "Благодаря разработчикам SciPy, эта рекомендация находит свое отражение в том, какой метод по умолчанию использует функция minimize:"
   ]
  },
  {
   "cell_type": "code",
   "execution_count": 21,
   "metadata": {
    "collapsed": false
   },
   "outputs": [
    {
     "data": {
      "text/plain": [
       "   status: 0\n",
       "  success: True\n",
       "     njev: 24\n",
       "     nfev: 96\n",
       " hess_inv: array([[ 0.98632001,  1.97824278],\n",
       "       [ 1.97824278,  4.46512261]])\n",
       "      fun: 9.538460152507302e-15\n",
       "        x: array([ 1.00000007,  1.00000005])\n",
       "  message: 'Optimization terminated successfully.'\n",
       "      jac: array([  4.74186475e-07,  -1.53939058e-07])"
      ]
     },
     "execution_count": 21,
     "metadata": {},
     "output_type": "execute_result"
    }
   ],
   "source": [
    "optimize.minimize(f, [2, 2])"
   ]
  },
  {
   "cell_type": "markdown",
   "metadata": {},
   "source": [
    "## Пример одномерной минимизации и анимации"
   ]
  },
  {
   "cell_type": "markdown",
   "metadata": {},
   "source": [
    "(попробуйте запустить отдельно от ipython notebook)"
   ]
  },
  {
   "cell_type": "code",
   "execution_count": 30,
   "metadata": {
    "collapsed": false
   },
   "outputs": [
    {
     "name": "stdout",
     "output_type": "stream",
     "text": [
      "Optimization terminated successfully.\n",
      "         Current function value: 0.000000\n",
      "         Iterations: 22\n",
      "         Function evaluations: 44\n",
      "<class 'matplotlib.lines.Line2D'>\n"
     ]
    },
    {
     "data": {
      "image/png": "[encoded data removed]",
      "text/plain": [
       "<matplotlib.figure.Figure at 0x14ffb2b0>"
      ]
     },
     "metadata": {},
     "output_type": "display_data"
    }
   ],
   "source": [
    "import numpy as np\n",
    "import matplotlib.pyplot as plt\n",
    "import matplotlib.animation as animation\n",
    "import scipy.optimize as si\n",
    "import scipy.optimize as so\n",
    "\n",
    "fig = plt.figure()\n",
    "ax = plt.axes(xlim=(-0.5, 3.5), ylim=(-10, 100))\n",
    "line, = ax.plot([], [], 'o')\n",
    "\n",
    "def F(x):\n",
    "        return (x**3-x**2-9.)**2\n",
    "\n",
    "#get the optimize progress\n",
    "res_x = []\n",
    "so.fmin(F, -9, callback=res_x.append)\n",
    "res_x = np.array(res_x).ravel()\n",
    "res_y = F(res_x)\n",
    "\n",
    "def init():\n",
    "    line.set_data([], [])\n",
    "    return line,\n",
    "\n",
    "# animation function.  This is called sequentially\n",
    "def animate(i):\n",
    "    line.set_data(res_x[i], res_y[i])\n",
    "    return line,\n",
    "\n",
    "#print type(animate(0))\n",
    "\n",
    "ax.plot(np.linspace(0,10,100), F(np.linspace(0,10,100)), 'g')\n",
    "#frames is the length of res_x\n",
    "anim = animation.FuncAnimation(fig, animate, init_func=init,\n",
    "                               frames=len(res_x), interval=200, blit=True)\n",
    "plt.show()"
   ]
  },
  {
   "cell_type": "code",
   "execution_count": null,
   "metadata": {
    "collapsed": false
   },
   "outputs": [],
   "source": []
  }
 ],
 "metadata": {
  "kernelspec": {
   "display_name": "Python 3",
   "language": "python",
   "name": "python3"
  },
  "language_info": {
   "codemirror_mode": {
    "name": "ipython",
    "version": 3
   },
   "file_extension": ".py",
   "mimetype": "text/x-python",
   "name": "python",
   "nbconvert_exporter": "python",
   "pygments_lexer": "ipython3",
   "version": "3.6.0"
  }
 },
 "nbformat": 4,
 "nbformat_minor": 0
}
