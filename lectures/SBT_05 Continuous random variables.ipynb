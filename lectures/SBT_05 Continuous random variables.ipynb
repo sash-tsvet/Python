{
 "metadata": {
  "name": "",
  "signature": "sha256:2099bae09b4aaaf73bcff169c8001320ae5ca774c48b52a0a1592aea9d7e2c90"
 },
 "nbformat": 3,
 "nbformat_minor": 0,
 "worksheets": [
  {
   "cells": [
    {
     "cell_type": "markdown",
     "metadata": {},
     "source": [
      "<figure>\n",
      "  <IMG SRC=\"https://raw.githubusercontent.com/mbakker7/exploratory_computing_with_python/master/tudelft_logo.png\" WIDTH=250 ALIGN=\"right\">\n",
      "</figure>\n",
      "\n",
      "# Exploratory Computing with Python\n",
      "*Developed by Mark Bakker*"
     ]
    },
    {
     "cell_type": "markdown",
     "metadata": {},
     "source": [
      "## Statistics Notebook: Continuous random variables\n",
      "In this notebook we deal with continuous distributions. We start with analyzing data that we generate ourselves, and we will consider real data at the end of this Notebook.\n",
      "\n",
      "The most common probability distribution is probably (no pun intended) the Normal distribution. Random numbers from a Normal distribution may be generated with the `standard_normal` function in the `random` subpackage of `numpy`. The numbers are drawn from a \"standard\" Normal distribution, which means a Normal distribution with mean 0 and standard deviation 1. The mean and standard deviation of a dataset can be computed with the functions `mean` and `std` of the `numpy` package."
     ]
    },
    {
     "cell_type": "code",
     "collapsed": false,
     "input": [
      "import numpy as np\n",
      "import matplotlib.pyplot as plt\n",
      "import numpy.random as rnd\n",
      "%matplotlib inline"
     ],
     "language": "python",
     "metadata": {},
     "outputs": [],
     "prompt_number": 5
    },
    {
     "cell_type": "code",
     "collapsed": false,
     "input": [
      "data = rnd.standard_normal(100)  # Array with 100 values\n",
      "print 'mean of data: ', np.mean(data)\n",
      "print 'standard deviation of data: ', np.std(data)"
     ],
     "language": "python",
     "metadata": {},
     "outputs": [
      {
       "output_type": "stream",
       "stream": "stdout",
       "text": [
        "mean of data:  -0.0540840197885\n",
        "standard deviation of data:  1.00969558728\n"
       ]
      }
     ],
     "prompt_number": 2
    },
    {
     "cell_type": "markdown",
     "metadata": {},
     "source": [
      "Note that the mean and standard deviation are not exactly equal to 0 and 1, respectively. These are, after all, only estimates of the true underlying mean and standard deviation. These estimates are called the sample mean and sample standard deviation (of 100 numbers drawn from a Normal distribution). Run the above code several times. Each time, a new set of 100 random numbers is drawn, with a slightly different mean and standard deviation. We'll get back to that later. \n",
      "\n",
      "To generate numbers from a Normal distribution with mean $\\mu$ and standard deviation $\\sigma$, draw numbers from the standard Normal distribution, multiply all values by $\\sigma$ and then add $\\mu$ (see [here](http://www.statlect.com/ucdnrm1.htm))."
     ]
    },
    {
     "cell_type": "code",
     "collapsed": false,
     "input": [
      "mu = 6.0\n",
      "sig = 2.0\n",
      "data = sig * rnd.standard_normal(100) + mu\n",
      "print 'mean of data: ', np.mean(data)\n",
      "print 'standard deviation of data: ', np.std(data)"
     ],
     "language": "python",
     "metadata": {},
     "outputs": [
      {
       "output_type": "stream",
       "stream": "stdout",
       "text": [
        "mean of data:  5.96727387396\n",
        "standard deviation of data:  2.30331942252\n"
       ]
      }
     ],
     "prompt_number": 3
    },
    {
     "cell_type": "markdown",
     "metadata": {},
     "source": [
      "###Histograms\n",
      "One of the first things to do, when you obtain a new data set, is to look at the data. One way to do that is to draw a histogram. For a histogram, you count how many data points fall within a certain interval. For example, how many data points are within 5 and 6. These intervals are called bins. The bar graph of the number of data points in each bin is called a histogram. The function to compute and plot a histogram is called `hist` and is part of the `matplotlib` package. The simplest way of plotting a histogram is to let `hist` decide what bins to use; the default number of bins is `nbin=10`; `hist` even figures out where to put the limits of the bins. The `hist` function creates a histogram graph and returns a tuple of three items. The first item is an array of length `nbin` with the number of data points in each bin. The second item is an array of length `nbin+1` with the limits of the bins. The third item is a list of objects that represent the bars of the histogram; we won't use this last item here. Note that with a dataset of 100 points, the histogram doesn't look too much like the typical bell-shaped curve of a Normal distribution, even though the data points are actually drawn from a real Normal distribution. Run the code below several times to see how it changes with a new random set of 100 data points."
     ]
    },
    {
     "cell_type": "code",
     "collapsed": false,
     "input": [
      "mu = 6.0\n",
      "sig = 2.0\n",
      "data = sig * rnd.standard_normal(100) + mu\n",
      "a = plt.hist(data)\n",
      "plt.xlabel('bins')\n",
      "plt.ylabel('number of data points')\n",
      "print 'number of data points in each bin: ',a[0]\n",
      "print 'limits of the bins: ',a[1]"
     ],
     "language": "python",
     "metadata": {},
     "outputs": [
      {
       "output_type": "stream",
       "stream": "stdout",
       "text": [
        "number of data points in each bin:  [  1.   7.  12.  18.  23.  11.  18.   8.   1.   1.]\n",
        "limits of the bins:  [  0.98524572   2.06736248   3.14947925   4.23159602   5.31371278\n",
        "   6.39582955   7.47794632   8.56006308   9.64217985  10.72429662\n",
        "  11.80641338]\n"
       ]
      },
      {
       "metadata": {},
       "output_type": "display_data",
       "png": "[encoded data removed]",
       "text": [
        "<matplotlib.figure.Figure at 0x10633d710>"
       ]
      }
     ],
     "prompt_number": 4
    },
    {
     "cell_type": "markdown",
     "metadata": {},
     "source": [
      "As you can see from the previous example, the limits of the bins are not chosen as nice numbers: `hist` takes the minimum and maximum value of the data and divides it in `nbin` equal intervals. Alternatively, you can specify the number of bins with the `bins` keyword, and the range (minimum and maximum limits of the bins) with the `range` keyword. If data values are outside this range (such as outliers), they are ignored. In the code below, 12 bins are chosen equally spaced from 0 to 12. Note that we use the same date as for the graph above, but by simply choosing different bins the histogram looks quite different."
     ]
    },
    {
     "cell_type": "code",
     "collapsed": false,
     "input": [
      "a = plt.hist(data, bins = 12, range = (0,12))\n",
      "print 'number of data points in each bin: ',a[0]\n",
      "print 'limits of the bins: ',a[1]\n",
      "plt.xlabel('bins')\n",
      "plt.ylabel('number of data points')"
     ],
     "language": "python",
     "metadata": {},
     "outputs": [
      {
       "output_type": "stream",
       "stream": "stdout",
       "text": [
        "number of data points in each bin:  [  1.   0.   7.   9.  14.  20.  14.  14.  15.   4.   1.   1.]\n",
        "limits of the bins:  [  0.   1.   2.   3.   4.   5.   6.   7.   8.   9.  10.  11.  12.]\n"
       ]
      },
      {
       "metadata": {},
       "output_type": "pyout",
       "prompt_number": 5,
       "text": [
        "<matplotlib.text.Text at 0x106477050>"
       ]
      },
      {
       "metadata": {},
       "output_type": "display_data",
       "png": "[encoded data removed]",
       "text": [
        "<matplotlib.figure.Figure at 0x10633d410>"
       ]
      }
     ],
     "prompt_number": 5
    },
    {
     "cell_type": "markdown",
     "metadata": {},
     "source": [
      "A line representing the underlying normal distribution may be added as follows. First import the `norm` class from the `scipy.stats` package. Then call the `norm.pdf` function (pdf stands for probability density function) to compute the values of the normal distribution given three arguments: the $x$ values where to compute the normal distribution, the mean, and the standard deviation. Let's add the normal distribution to the histogram we just created. The one thing we have to change in the histogram is the vertical axis. In the graph above, the vertical axis shows the number of data points. We need to normalize this so that the vertical axis gives the probability that a data point lies in a bin. The histogram may be normalized by specifying the `normed = True` keyword:"
     ]
    },
    {
     "cell_type": "code",
     "collapsed": false,
     "input": [
      "from scipy.stats import norm\n",
      "a = plt.hist(data, bins = 12, range = (0,12), normed=True)\n",
      "x = np.linspace(0,12,100)\n",
      "y = norm.pdf(x,6,2) # mu=6, sig=2\n",
      "plt.plot(x,y,'r')\n",
      "plt.xlabel('bins')\n",
      "plt.ylabel('probability')"
     ],
     "language": "python",
     "metadata": {},
     "outputs": [
      {
       "metadata": {},
       "output_type": "pyout",
       "prompt_number": 6,
       "text": [
        "<matplotlib.text.Text at 0x107a70b50>"
       ]
      },
      {
       "metadata": {},
       "output_type": "display_data",
       "png": "[encoded data removed]",
       "text": [
        "<matplotlib.figure.Figure at 0x1066dc310>"
       ]
      }
     ],
     "prompt_number": 6
    },
    {
     "cell_type": "markdown",
     "metadata": {},
     "source": [
      "###Exercise 1: <a name=\"back1\"></a>First histogram\n",
      "Generate 1000 random numbers from a Normal distribution with mean 100 and standard deviation 10. Compute and print to the screen the mean and standard deviation of your data. Create two graphs above each other using the `subplot` command (use `help(subplot)` if you forgot how to do that). In the top graph, plot a histogram using 20 bins going from 50 to 150. Note that with this size of a data set (1000 data points), the histogram starts to look a lot more like the typical bell-shaped curve of a Normal distribution. Add a red line representing the probability density function of the underlying normal distribution to the graph. In the bottom graph, draw a histogram of the cumulative distribution function, by setting the keyword `cumulative = True` (see `help(hist)` for details). For the latter graph, it may also be nice to use the keywords `histtype = 'step'` and `align='right'`. Add a red line representing the cumulative distribution function of the underlying normal distribution to the graph using the `norm.cdf` function, which works the same as the `norm.pdf` function but computes the cumulative distribution function (cdf). Finally, make sure the limits along the horizontal axis are the same for both graphs. "
     ]
    },
    {
     "cell_type": "code",
     "collapsed": false,
     "input": [
      "help(plt.subplot)"
     ],
     "language": "python",
     "metadata": {},
     "outputs": [
      {
       "output_type": "stream",
       "stream": "stdout",
       "text": [
        "Help on function subplot in module matplotlib.pyplot:\n",
        "\n",
        "subplot(*args, **kwargs)\n",
        "    Return a subplot axes positioned by the given grid definition.\n",
        "    \n",
        "    Typical call signature::\n",
        "    \n",
        "      subplot(nrows, ncols, plot_number)\n",
        "    \n",
        "    Where *nrows* and *ncols* are used to notionally split the figure\n",
        "    into ``nrows * ncols`` sub-axes, and *plot_number* is used to identify\n",
        "    the particular subplot that this function is to create within the notional\n",
        "    grid. *plot_number* starts at 1, increments across rows first and has a\n",
        "    maximum of ``nrows * ncols``.\n",
        "    \n",
        "    In the case when *nrows*, *ncols* and *plot_number* are all less than 10,\n",
        "    a convenience exists, such that the a 3 digit number can be given instead,\n",
        "    where the hundreds represent *nrows*, the tens represent *ncols* and the\n",
        "    units represent *plot_number*. For instance::\n",
        "    \n",
        "      subplot(211)\n",
        "    \n",
        "    produces a subaxes in a figure which represents the top plot (i.e. the\n",
        "    first) in a 2 row by 1 column notional grid (no grid actually exists,\n",
        "    but conceptually this is how the returned subplot has been positioned).\n",
        "    \n",
        "    .. note::\n",
        "    \n",
        "       Creating a new subplot with a position which is entirely inside a\n",
        "       pre-existing axes will trigger the larger axes to be deleted::\n",
        "    \n",
        "          import matplotlib.pyplot as plt\n",
        "          # plot a line, implicitly creating a subplot(111)\n",
        "          plt.plot([1,2,3])\n",
        "          # now create a subplot which represents the top plot of a grid\n",
        "          # with 2 rows and 1 column. Since this subplot will overlap the\n",
        "          # first, the plot (and its axes) previously created, will be removed\n",
        "          plt.subplot(211)\n",
        "          plt.plot(range(12))\n",
        "          plt.subplot(212, axisbg='y') # creates 2nd subplot with yellow background\n",
        "    \n",
        "       If you do not want this behavior, use the\n",
        "       :meth:`~matplotlib.figure.Figure.add_subplot` method or the\n",
        "       :func:`~matplotlib.pyplot.axes` function instead.\n",
        "    \n",
        "    Keyword arguments:\n",
        "    \n",
        "      *axisbg*:\n",
        "        The background color of the subplot, which can be any valid\n",
        "        color specifier.  See :mod:`matplotlib.colors` for more\n",
        "        information.\n",
        "    \n",
        "      *polar*:\n",
        "        A boolean flag indicating whether the subplot plot should be\n",
        "        a polar projection.  Defaults to *False*.\n",
        "    \n",
        "      *projection*:\n",
        "        A string giving the name of a custom projection to be used\n",
        "        for the subplot. This projection must have been previously\n",
        "        registered. See :mod:`matplotlib.projections`.\n",
        "    \n",
        "    .. seealso::\n",
        "    \n",
        "        :func:`~matplotlib.pyplot.axes`\n",
        "            For additional information on :func:`axes` and\n",
        "            :func:`subplot` keyword arguments.\n",
        "    \n",
        "        :file:`examples/pie_and_polar_charts/polar_scatter_demo.py`\n",
        "            For an example\n",
        "    \n",
        "    **Example:**\n",
        "    \n",
        "    .. plot:: mpl_examples/subplots_axes_and_figures/subplot_demo.py\n",
        "\n"
       ]
      }
     ],
     "prompt_number": 6
    },
    {
     "cell_type": "code",
     "collapsed": false,
     "input": [
      "from scipy.stats import norm\n",
      "mu = 100.0\n",
      "sig = 10.0\n",
      "data = sig * rnd.standard_normal(1000) + mu\n",
      "print 'mean of data is: ',np.mean(data)\n",
      "print 'standard devaiation of data is: ',np.std(data)\n",
      "plt.subplot(211)\n",
      "a = plt.hist(data, bins = 20, range = (50,150), normed=True)\n",
      "x = np.linspace(50,150,100)\n",
      "y = norm.pdf(x,mu,sig)\n",
      "plt.plot(x,y,'r')\n",
      "plt.xlim(50,150)\n",
      "plt.ylabel('probability')\n",
      "plt.subplot(212)\n",
      "b = plt.hist(data, bins = 20, range = (50,150), cumulative = True, histtype='step', normed = True, align='right')\n",
      "y = norm.cdf(x,mu,sig)\n",
      "plt.plot(x,y,'r')\n",
      "plt.xlim(50,150)\n",
      "plt.xlabel('bins')\n",
      "plt.ylabel('probability')"
     ],
     "language": "python",
     "metadata": {},
     "outputs": [
      {
       "output_type": "stream",
       "stream": "stdout",
       "text": [
        "mean of data is:  99.3606969024\n",
        "standard devaiation of data is:  9.85067071091\n"
       ]
      },
      {
       "metadata": {},
       "output_type": "pyout",
       "prompt_number": 21,
       "text": [
        "<matplotlib.text.Text at 0x16eb4cf8>"
       ]
      },
      {
       "metadata": {},
       "output_type": "display_data",
       "png": "[encoded data removed]",
       "text": [
        "<matplotlib.figure.Figure at 0x16be64a8>"
       ]
      }
     ],
     "prompt_number": 21
    },
    {
     "cell_type": "markdown",
     "metadata": {},
     "source": [
      "###Percentiles\n",
      "Another useful description of a dataset are the percentiles or quantiles. For this we consider the ordered data, that is, we order the datapoints in ascending order (so the first datapoint is the minimum of the data and the last datapoint is the maximum). The 25 percentile is the data point in the ordered data such that 25% of the data is below this datapoint (and thus 75% is above this datapoint). The percentiles of a dataset are commonly referred to as the 'empirical percentiles' as they are the percentiles of the dataset, not of the underlying distribution. The 50 empirical percentile is equivalent to the median of the data. Common intervals to look at are the 50% region around the median (also called the interquartile range or IQR), which runs from the 25 empirical percentile to the 75 empirical percentile, and the 95% region, which runs from the 2.5 empirical percentile to the 97.5 empirical percentile. Percentiles of a dataset may be computed with the `percentile` function in the `numpy` package. The first argument is the data, the second argument is a list of percentiles:"
     ]
    },
    {
     "cell_type": "code",
     "collapsed": false,
     "input": [
      "data = 2.0 * rnd.standard_normal(100) + 10.0  # mu = 10, sigma = 2, 100 points\n",
      "lower, median, upper = np.percentile(data, [2.5, 50, 97.5])\n",
      "print '2.5 percentile: ',lower\n",
      "print '50 percentile: ',median\n",
      "print '97.5 percentile: ',upper\n",
      "print '95% interval: ',lower,' to ',upper"
     ],
     "language": "python",
     "metadata": {},
     "outputs": [
      {
       "output_type": "stream",
       "stream": "stdout",
       "text": [
        "2.5 percentile:  5.99424578982\n",
        "50 percentile:  9.64360974769\n",
        "97.5 percentile:  13.1229864112\n",
        "95% interval:  5.99424578982  to  13.1229864112\n"
       ]
      }
     ],
     "prompt_number": 7
    },
    {
     "cell_type": "markdown",
     "metadata": {},
     "source": [
      "Theoretical percentiles of a given distribution may be computed with the `interval` function, which gives the interal around the median. For example, the 95% region for the standard normal distribution is given by"
     ]
    },
    {
     "cell_type": "code",
     "collapsed": false,
     "input": [
      "norm.interval(0.95)"
     ],
     "language": "python",
     "metadata": {},
     "outputs": [
      {
       "metadata": {},
       "output_type": "pyout",
       "prompt_number": 8,
       "text": [
        "(-1.959963984540054, 1.959963984540054)"
       ]
      }
     ],
     "prompt_number": 8
    },
    {
     "cell_type": "markdown",
     "metadata": {},
     "source": [
      "This means that the 95 percentile runs from -1.96 times the standard deviation to +1.96 the standard deviation. "
     ]
    },
    {
     "cell_type": "markdown",
     "metadata": {},
     "source": [
      "###Expercise 2. <a name=\"back2\"></a>Lower and upper quartile\n",
      "Generate 1000 data points from a normal distribution with a mean of 20 and a standard deviation of 4. Compute the interquartile range (25%-75% range). Compute the theoretical value of the interquartile range and compare it to the interquartile range of the data. Draw a histogram of the cumulative distribution. Add red vertical lines to your graph for the 25 and 75 empirical percentiles of the data, and black vertical lines for the true 25 and 75 percentiles. Vertical lines that span the graph may be added with the `axvline` function of the `matplotlib` package, which takes the $x$ value of the line as an argument. To specify the color of the vertical line, use the `color` keyword argument."
     ]
    },
    {
     "cell_type": "code",
     "collapsed": false,
     "input": [],
     "language": "python",
     "metadata": {},
     "outputs": [],
     "prompt_number": 8
    },
    {
     "cell_type": "markdown",
     "metadata": {},
     "source": [
      "###Box-whisker plots\n",
      "Box-whisker plots (also simply referred to as boxplots) are a way to visualize the level and spread of the data. By simply looking at a boxplot, you can see whether the data is symmetric or not, and how widely the data are spread. A box-whisker plot may be created with the `boxplot` function in the `matplotlib` package as follows"
     ]
    },
    {
     "cell_type": "code",
     "collapsed": false,
     "input": [
      "rnd.seed(10)\n",
      "data = 2.0 * rnd.standard_normal(500) + 10.0  # mu = 10, sigma = 2, 500 points\n",
      "a = plt.boxplot(data)"
     ],
     "language": "python",
     "metadata": {},
     "outputs": [
      {
       "metadata": {},
       "output_type": "display_data",
       "png": "[encoded data removed]",
       "text": [
        "<matplotlib.figure.Figure at 0x1067d1650>"
       ]
      }
     ],
     "prompt_number": 9
    },
    {
     "cell_type": "markdown",
     "metadata": {},
     "source": [
      "The `boxplot` function creates the graph and returns a lot of stuff such as 'boxes', 'caps', etc. These latter ones are handles to the different features of the graph; we will not use them here. What you see in the graph is a red line at the median of the data. The blue box spans the IQR ranging from the lower quartile (25%) to the upper quartile (75%). The whiskers are the black lines that are connected to the 50% box with the blue dashed lines. They extend to the most extreme data point within the `whis*IQR` data range, where the default value of `whis` is 1.5. Any data points falling outside the whiskers are potential outliers and are plotted as crosses. In this case there are 5 points outside the whiskers, but none are outliers. They were, after all, drawn from a Normal distribution!"
     ]
    },
    {
     "cell_type": "markdown",
     "metadata": {},
     "source": [
      "###Pandas\n",
      "All the techniques described in this Notebook can also be done with the `pandas` package. `pandas` is often much easier as it has a lot more functionality, it can handle missing values (`NaN` values, for example), and the plots are pretty by default.\n",
      "\n",
      "The `read_csv` function of `pandas` may be used to read data from a file and store it in a `DataFrame` (see Notebook 5). A `DataFrame` may also be created from scratch. First, the `pandas` package is imported and called `pd`. Then an empty `DataFrame` is created and values are added to two columns by drawing from two different normal distributions; the columns are called `test1` and `test2`. The  `describe` function of `pandas` gives a nice summary of the data, including the number of values, mean, standard deviation, min, 25%, 50%, 75%, and max values. "
     ]
    },
    {
     "cell_type": "code",
     "collapsed": false,
     "input": [
      "import pandas as pd\n",
      "data = pd.DataFrame()\n",
      "data['test1'] = 2 * rnd.standard_normal(100) + 3\n",
      "data['test2'] = 1 * rnd.standard_normal(100) + 5\n",
      "data.describe()"
     ],
     "language": "python",
     "metadata": {},
     "outputs": [
      {
       "html": [
        "<div style=\"max-height:1000px;max-width:1500px;overflow:auto;\">\n",
        "<table border=\"1\" class=\"dataframe\">\n",
        "  <thead>\n",
        "    <tr style=\"text-align: right;\">\n",
        "      <th></th>\n",
        "      <th>test1</th>\n",
        "      <th>test2</th>\n",
        "    </tr>\n",
        "  </thead>\n",
        "  <tbody>\n",
        "    <tr>\n",
        "      <th>count</th>\n",
        "      <td> 100.000000</td>\n",
        "      <td> 100.000000</td>\n",
        "    </tr>\n",
        "    <tr>\n",
        "      <th>mean</th>\n",
        "      <td>   2.862210</td>\n",
        "      <td>   5.101536</td>\n",
        "    </tr>\n",
        "    <tr>\n",
        "      <th>std</th>\n",
        "      <td>   1.883256</td>\n",
        "      <td>   0.933086</td>\n",
        "    </tr>\n",
        "    <tr>\n",
        "      <th>min</th>\n",
        "      <td>  -2.632002</td>\n",
        "      <td>   3.012896</td>\n",
        "    </tr>\n",
        "    <tr>\n",
        "      <th>25%</th>\n",
        "      <td>   1.487364</td>\n",
        "      <td>   4.512289</td>\n",
        "    </tr>\n",
        "    <tr>\n",
        "      <th>50%</th>\n",
        "      <td>   2.742579</td>\n",
        "      <td>   5.003217</td>\n",
        "    </tr>\n",
        "    <tr>\n",
        "      <th>75%</th>\n",
        "      <td>   4.158108</td>\n",
        "      <td>   5.631319</td>\n",
        "    </tr>\n",
        "    <tr>\n",
        "      <th>max</th>\n",
        "      <td>   8.343370</td>\n",
        "      <td>   7.662577</td>\n",
        "    </tr>\n",
        "  </tbody>\n",
        "</table>\n",
        "</div>"
       ],
       "metadata": {},
       "output_type": "pyout",
       "prompt_number": 10,
       "text": [
        "            test1       test2\n",
        "count  100.000000  100.000000\n",
        "mean     2.862210    5.101536\n",
        "std      1.883256    0.933086\n",
        "min     -2.632002    3.012896\n",
        "25%      1.487364    4.512289\n",
        "50%      2.742579    5.003217\n",
        "75%      4.158108    5.631319\n",
        "max      8.343370    7.662577"
       ]
      }
     ],
     "prompt_number": 10
    },
    {
     "cell_type": "markdown",
     "metadata": {},
     "source": [
      "Values such as `mean` or `max` may be obtained for the entire `DataFrame` or for one column at a time. The percentiles may be obtained with the `quantile` function."
     ]
    },
    {
     "cell_type": "code",
     "collapsed": false,
     "input": [
      "print 'minimum of test1:', data.test1.min()\n",
      "print 'standard deviation of the DataFrame:', data.std()\n",
      "print '5% and 95% precentiles of test2:'\n",
      "print data.test2.quantile([0.05,0.95])"
     ],
     "language": "python",
     "metadata": {},
     "outputs": [
      {
       "output_type": "stream",
       "stream": "stdout",
       "text": [
        "minimum of test1: -2.6320024343\n",
        "standard deviation of the DataFrame: test1    1.883256\n",
        "test2    0.933086\n",
        "dtype: float64\n",
        "5% and 95% precentiles of test2:\n",
        "0.05    3.535725\n",
        "0.95    6.821249\n",
        "dtype: float64\n"
       ]
      }
     ],
     "prompt_number": 11
    },
    {
     "cell_type": "markdown",
     "metadata": {},
     "source": [
      "The histogram of the data in the two columns may be created with the `hist` function of `pandas`. Notice that the `sharex` keyword is set to `True` so that the horizontal axis has the same length for both histograms."
     ]
    },
    {
     "cell_type": "code",
     "collapsed": false,
     "input": [
      "data.hist(sharex=True)"
     ],
     "language": "python",
     "metadata": {},
     "outputs": [
      {
       "metadata": {},
       "output_type": "pyout",
       "prompt_number": 12,
       "text": [
        "array([[<matplotlib.axes._subplots.AxesSubplot object at 0x107ca4c50>,\n",
        "        <matplotlib.axes._subplots.AxesSubplot object at 0x1092639d0>]], dtype=object)"
       ]
      },
      {
       "metadata": {},
       "output_type": "display_data",
       "png": "[encoded data removed]",
       "text": [
        "<matplotlib.figure.Figure at 0x107d94650>"
       ]
      }
     ],
     "prompt_number": 12
    },
    {
     "cell_type": "markdown",
     "metadata": {},
     "source": [
      "###Missing data\n",
      "Real data often contains missing values. Every database has its own way of treating missing values. Some databases leave the value empty, others substitute a number that can easily be recognized (for example -9999). In `pandas` these values need to be converted to *Not A Number* using the `NaN` value of the `numpy package` (both `NaN` and `nan` work). In the code below, the value with index 5 in the `test1` column is changed to `NaN`. "
     ]
    },
    {
     "cell_type": "markdown",
     "metadata": {},
     "source": [
      "The `hist` function of `pandas` does not have the option to draw a cumulative distribution, unfortunatly. For that, we have to go back to the `hist` function of `matplotlib`. That gives another problem, as the `hist` function of `matplotlib` can not handle `nan` values. Luckily, the `pandas` package includes the function `dropna`, which drops all `nan` values from a column of a `DataFrame`, so that the cumulative distribution can be plotted with the `plt.hist` function."
     ]
    },
    {
     "cell_type": "code",
     "collapsed": false,
     "input": [
      "data.test1[5] = np.NaN  # Replace the value with index 5 to NaN\n",
      "# Try the following function without the dropna function and see that you get an error\n",
      "plt.hist(data.test1.dropna(), cumulative=True, histtype='step', normed=True, align='right')"
     ],
     "language": "python",
     "metadata": {},
     "outputs": [
      {
       "metadata": {},
       "output_type": "pyout",
       "prompt_number": 13,
       "text": [
        "(array([ 0.01010101,  0.03030303,  0.13131313,  0.28282828,  0.50505051,\n",
        "         0.68686869,  0.85858586,  0.96969697,  0.98989899,  1.        ]),\n",
        " array([-2.63200243, -1.53446517, -0.43692791,  0.66060935,  1.75814661,\n",
        "         2.85568387,  3.95322113,  5.05075839,  6.14829566,  7.24583292,\n",
        "         8.34337018]),\n",
        " <a list of 1 Patch objects>)"
       ]
      },
      {
       "metadata": {},
       "output_type": "display_data",
       "png": "[encoded data removed]",
       "text": [
        "<matplotlib.figure.Figure at 0x109208950>"
       ]
      }
     ],
     "prompt_number": 13
    },
    {
     "cell_type": "markdown",
     "metadata": {},
     "source": [
      "`pandas` also draws nice boxplots of a DataFrame"
     ]
    },
    {
     "cell_type": "code",
     "collapsed": false,
     "input": [
      "data.boxplot();"
     ],
     "language": "python",
     "metadata": {},
     "outputs": [
      {
       "output_type": "stream",
       "stream": "stderr",
       "text": [
        "//anaconda/lib/python2.7/site-packages/pandas/tools/plotting.py:2380: FutureWarning: \n",
        "The default value for 'return_type' will change to 'axes' in a future release.\n",
        " To use the future behavior now, set return_type='axes'.\n",
        " To keep the previous behavior and silence this warning, set return_type='dict'.\n",
        "  warnings.warn(msg, FutureWarning)\n"
       ]
      },
      {
       "metadata": {},
       "output_type": "display_data",
       "png": "[encoded data removed]",
       "text": [
        "<matplotlib.figure.Figure at 0x10979e590>"
       ]
      }
     ],
     "prompt_number": 14
    },
    {
     "cell_type": "markdown",
     "metadata": {},
     "source": [
      "The histgram or boxplot of one column of a DataFrame may be obtained by specifying the column you want to plot"
     ]
    },
    {
     "cell_type": "code",
     "collapsed": false,
     "input": [
      "plt.figure()\n",
      "data.hist(column='test1')  # Makes histogram of column test1\n",
      "plt.figure()\n",
      "data. boxplot(column='test2');  # Makes boxplot of column test2"
     ],
     "language": "python",
     "metadata": {},
     "outputs": [
      {
       "metadata": {},
       "output_type": "pyout",
       "prompt_number": 15,
       "text": [
        "{'boxes': [<matplotlib.lines.Line2D at 0x1097f1d90>],\n",
        " 'caps': [<matplotlib.lines.Line2D at 0x10987a9d0>,\n",
        "  <matplotlib.lines.Line2D at 0x109868e50>],\n",
        " 'fliers': [<matplotlib.lines.Line2D at 0x10923b9d0>],\n",
        " 'means': [],\n",
        " 'medians': [<matplotlib.lines.Line2D at 0x10985dcd0>],\n",
        " 'whiskers': [<matplotlib.lines.Line2D at 0x10981be50>,\n",
        "  <matplotlib.lines.Line2D at 0x10981bb90>]}"
       ]
      },
      {
       "metadata": {},
       "output_type": "display_data",
       "text": [
        "<matplotlib.figure.Figure at 0x1097aee50>"
       ]
      },
      {
       "metadata": {},
       "output_type": "display_data",
       "png": "[encoded data removed]",
       "text": [
        "<matplotlib.figure.Figure at 0x1097a9490>"
       ]
      },
      {
       "metadata": {},
       "output_type": "display_data",
       "png": "[encoded data removed]",
       "text": [
        "<matplotlib.figure.Figure at 0x1097a9410>"
       ]
      }
     ],
     "prompt_number": 15
    },
    {
     "cell_type": "markdown",
     "metadata": {},
     "source": [
      "It is time to start applying our statistical techniques to real data rather than datasets generated with a random number generator."
     ]
    }
   ],
   "metadata": {}
  }
 ]
}