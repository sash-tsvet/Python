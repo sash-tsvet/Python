{
 "cells": [
  {
   "cell_type": "markdown",
   "metadata": {},
   "source": [
    "# Python\n",
    "Чем отличаются типы list и tuple? Какой из них можно использовать в качестве ключа в dict и добавлять в set? Почему? На какой структуре данных реализован dict в python? Чем отличается range от xrange в Python2.x? Что такое list comprehension? Как работают функции map и reduce в Python?\n"
   ]
  },
  {
   "cell_type": "markdown",
   "metadata": {
    "collapsed": true
   },
   "source": [
    "List - упорядоченная изменяемая коллекция объектов произвольного типа. Tuple - неизменяемая (неизменяемый список).\n",
    "В качестве ключа можно использовать tuple (Only immutable elements can be used as dictionary keys, and hence only tuples and not lists can be used as keys). Ограничение на неизменяемость ключа для словаря вызвано необходимостью поиска в словаре - значение, соответствующее ключу находится по адресу, зависящему от хеша ключа. В случае со списком хеш будет меняться при изменении списка, что приведет к невозможности поиска в словаре. То же самое происходит при добавлении в сет (set is an unordered collection of distinct hashable objects). Для обеспечения уникальности входящего в сет элемента, от него считается хеш. Возникает опять та же проблема.\n",
    "\n",
    "Dict реализован на хеш таблицах.\n",
    "\n",
    "Range возвращает список, Xrange возврашает лениво вычисляемый объект, что быстрее и требует меньше памяти (элементы производятся но не сохраряются).\n",
    "\n",
    "List comprehension - способ описания содержимого списка: [n for n in range(1, 10000) if n % 2 == 0]. Это создаст список, подходящий под поставленное условие.\n",
    "\n",
    "Map применяет функцию к каждому из элементов списка и возвращает список, reduce производит операцию со всеми элементами списка (например, складывает все) и возыраш=щает полученное число.\n"
   ]
  },
  {
   "cell_type": "markdown",
   "metadata": {},
   "source": [
    "Напишите рекурсивную функцию, возвращающую N-ное число Фи-боначчи. Проверьте работу для небольших N. Выясните, для какого N начинаются проблемы с глубиной рекурсии. Дополнительное задание для любознательных: попробуйте выяснить, можно ли в Python изменить допустимую глубину рекурсии\n"
   ]
  },
  {
   "cell_type": "code",
   "execution_count": 9,
   "metadata": {
    "collapsed": false
   },
   "outputs": [
    {
     "name": "stdout",
     "output_type": "stream",
     "text": [
      "55\n"
     ]
    }
   ],
   "source": [
    "def Fibonacci_rec(a):\n",
    "    if a <= 0:\n",
    "        return  0\n",
    "    else:\n",
    "        if a == 1:\n",
    "            return 1\n",
    "        else:\n",
    "            return Fibonacci_rec(a-1)+ Fibonacci_rec(a-2)\n",
    "        \n",
    "print (Fibonacci_rec(10))\n",
    "#проблемы с x>42, слишком долго"
   ]
  },
  {
   "cell_type": "code",
   "execution_count": 13,
   "metadata": {
    "collapsed": false
   },
   "outputs": [
    {
     "name": "stdout",
     "output_type": "stream",
     "text": [
      "1000\n",
      "2000\n"
     ]
    }
   ],
   "source": [
    "import sys\n",
    "print(sys.getrecursionlimit())\n",
    "sys.setrecursionlimit(2*sys.getrecursionlimit())\n",
    "print(sys.getrecursionlimit())"
   ]
  },
  {
   "cell_type": "markdown",
   "metadata": {},
   "source": [
    "Попробуйте измерить время работы предыдущей функции при разных N."
   ]
  },
  {
   "cell_type": "code",
   "execution_count": 8,
   "metadata": {
    "collapsed": false
   },
   "outputs": [
    {
     "name": "stdout",
     "output_type": "stream",
     "text": [
      "55\n",
      "0.0005662903874963376 seconds\n",
      "6765\n",
      "0.009428916067008686 seconds\n",
      "832040\n",
      "0.8551775724856725 seconds\n",
      "102334155\n",
      "107.38977984706548 seconds\n",
      "267914296\n",
      "284.4248608724736 seconds\n"
     ]
    }
   ],
   "source": [
    "import time\n",
    "start_time = time.clock()\n",
    "print (Fibonacci_rec(10))\n",
    "print (time.clock() - start_time, \"seconds\")\n",
    "\n",
    "start_time = time.clock()\n",
    "print (Fibonacci_rec(20))\n",
    "print (time.clock() - start_time, \"seconds\")\n",
    "\n",
    "start_time = time.clock()\n",
    "print (Fibonacci_rec(30))\n",
    "print (time.clock() - start_time, \"seconds\")\n",
    "\n",
    "start_time = time.clock()\n",
    "print (Fibonacci_rec(40))\n",
    "print (time.clock() - start_time, \"seconds\")\n",
    "\n",
    "start_time = time.clock()\n",
    "print (Fibonacci_rec(42))\n",
    "print (time.clock() - start_time, \"seconds\")"
   ]
  },
  {
   "cell_type": "markdown",
   "metadata": {},
   "source": [
    "Напишите функцию, возвращающую (через запятую) модуль и аргумент комплексного числа по заданной мнимой и действительной части. Возможно, вам потребуется импортировать какие-то тригонометрические функции из модуля math. Приведите примеры работы. Каков тип возвращаемого вашей функцией значения?"
   ]
  },
  {
   "cell_type": "code",
   "execution_count": 34,
   "metadata": {
    "collapsed": false
   },
   "outputs": [
    {
     "name": "stdout",
     "output_type": "stream",
     "text": [
      "<class 'tuple'>\n",
      "(5.0, 0.9272952180016122)\n"
     ]
    }
   ],
   "source": [
    "import math\n",
    "import numpy\n",
    "\n",
    "def Mod_arg(x, y):\n",
    "    \"\"\"Function counting module and argument of a complex number.\n",
    "\n",
    "    Args:\n",
    "        x: Real part.\n",
    "        y: Imaginary part.\n",
    "\n",
    "    Returns:\n",
    "        Tuple - module and argument of a complex number.\n",
    "        \n",
    "    Examples:\n",
    "        Examples should be written in doctest format, and should illustrate how\n",
    "        to use the function.\n",
    "\n",
    "        >>> print(Mod_arg(3,4))\n",
    "        (5.0, 0.9272952180016122)\n",
    "        >>> print(Mod_arg(5,4))\n",
    "        (6.4031242374328485, 0.6747409422235526)\n",
    "        >>> print(Mod_arg(7,7))\n",
    "        (9.899494936611665, 0.7853981633974483)\n",
    "\n",
    "    \"\"\"\n",
    "    mod = math.sqrt(x**2 + y**2)\n",
    "    if x > 0:\n",
    "        arg = math.atan2(y, x)\n",
    "    else:\n",
    "        if y >= 0:\n",
    "            arg = arg = math.atan2(y, x) + math.pi\n",
    "        else:\n",
    "            arg = arg = math.atan2(y, x) - math.pi\n",
    "    return mod, arg\n",
    "        \n",
    "\n",
    "print (type(Mod_arg(3,4)))\n",
    "print (Mod_arg(3,4))"
   ]
  },
  {
   "cell_type": "markdown",
   "metadata": {},
   "source": [
    "Напишите docstrings к вашей последней функции. Изучите библиотеку doctest и попробуйте проверить, что написанные в docstrings примеры выполняются, без явного копирования кода оттуда (т.е. с помощью doctest).\n"
   ]
  },
  {
   "cell_type": "code",
   "execution_count": 38,
   "metadata": {
    "collapsed": false
   },
   "outputs": [
    {
     "data": {
      "text/plain": [
       "TestResults(failed=0, attempted=3)"
      ]
     },
     "execution_count": 38,
     "metadata": {},
     "output_type": "execute_result"
    }
   ],
   "source": [
    "import doctest\n",
    "doctest.testmod()"
   ]
  },
  {
   "cell_type": "markdown",
   "metadata": {},
   "source": [
    "Реализуйте класс комплексных чисел с самым базовым функционалом. Цель не продемонстрировать умение спроектировать класс из каждого второго домашнего задания по любому языку программирования, а посмотреть на особенности реализации классов на питоне"
   ]
  },
  {
   "cell_type": "code",
   "execution_count": 47,
   "metadata": {
    "collapsed": false
   },
   "outputs": [
    {
     "name": "stdout",
     "output_type": "stream",
     "text": [
      "Complex (3, -1.0)\n",
      "Complex (2.0, -1.0)\n",
      "Complex (7, -1.0)\n"
     ]
    }
   ],
   "source": [
    "class Complex(object):\n",
    "    def __init__(self, real, imag=0.0):\n",
    "        self.real = real\n",
    "        self.imag = imag\n",
    "\n",
    "    def __add__(self, other):\n",
    "        return Complex(self.real + other.real,\n",
    "                       self.imag + other.imag)\n",
    "\n",
    "    def __sub__(self, other):\n",
    "        return Complex(self.real - other.real,\n",
    "                       self.imag - other.imag)\n",
    "\n",
    "    def __mul__(self, other):\n",
    "        return Complex(self.real*other.real - self.imag*other.imag,\n",
    "                       self.imag*other.real + self.real*other.imag)\n",
    "    \n",
    "    def __str__(self):\n",
    "         return \"Complex (%s, %s)\" % (self.real, self.imag)\n",
    "    \n",
    "u = Complex(2,-1)\n",
    "v = Complex(1)     # zero imaginary part\n",
    "w = u + v\n",
    "print (w)\n",
    "print(u*v)\n",
    "print (w + 4)"
   ]
  },
  {
   "cell_type": "markdown",
   "metadata": {},
   "source": [
    "Изучите примеры работы с декораторами из официальной документации. Фактически, декоратор - это функция, которая принимает на вход другую функцию и возвращает её в модифицированном виде. Синтаксически предусмотрена возможность использовать декоратор, написав перед объявлением функции имя_декоратора. Попробуйте найти реализацию (или сделать сами) кэширующего декоратора и декоратора, вычисляющего время работы функции. Попробуйте применить эти декораторы в разной последовательности к функции, вычисляющей числа Фибоначчи, сравнить и объяснить результаты. Объясните также, как работают использованные вами декораторы."
   ]
  },
  {
   "cell_type": "code",
   "execution_count": 57,
   "metadata": {
    "collapsed": false
   },
   "outputs": [
    {
     "name": "stdout",
     "output_type": "stream",
     "text": [
      "102334155\n",
      "109.7581674408384 seconds\n",
      "helper 105.81531084995368\n",
      "102334155\n",
      "MB_fibonacci_rec 109.40969117251188\n",
      "102334155\n",
      "B_fibonacci_rec 108.59186401303123\n",
      "102334155\n"
     ]
    }
   ],
   "source": [
    "def memorize(f):\n",
    "    memo = {}\n",
    "    def helper(*args, **kargs):\n",
    "        k = tuple(args)\n",
    "        if k not in memo:    \n",
    "            memo[k] = f(*args, **kargs)\n",
    "        return memo[k]\n",
    "    return helper\n",
    "\n",
    "@memorize\n",
    "def Mem_fibonacci_rec(a):\n",
    "    return Fibonacci_rec(a)\n",
    "\n",
    "def benchmark(func):\n",
    "    \"\"\"\n",
    "    Декоратор, выводящий время, которое заняло\n",
    "    выполнение декорируемой функции.\n",
    "    \"\"\"\n",
    "    import time\n",
    "    def wrapper(*args, **kwargs):\n",
    "        t = time.clock()\n",
    "        res = func(*args, **kwargs)\n",
    "        print (func.__name__, time.clock() - t)\n",
    "        return res\n",
    "    return wrapper\n",
    "\n",
    "@memorize\n",
    "@benchmark\n",
    "def MB_fibonacci_rec(a):\n",
    "    return Fibonacci_rec(a)\n",
    "\n",
    "@benchmark\n",
    "@memorize\n",
    "def BM_fibonacci_rec(a):\n",
    "    return Fibonacci_rec(a)\n",
    "\n",
    "@benchmark\n",
    "def B_fibonacci_rec(a):\n",
    "    return Fibonacci_rec(a)\n",
    "\n",
    "start_time = time.clock()\n",
    "print (Mem_fibonacci_rec(40))\n",
    "print (time.clock() - start_time, \"seconds\")\n",
    "print (BM_fibonacci_rec(40))\n",
    "print (MB_fibonacci_rec(40))\n",
    "print (B_fibonacci_rec(40))\n",
    "#https://habrahabr.ru/post/141411/\n",
    "#https://habrahabr.ru/post/141501/"
   ]
  },
  {
   "cell_type": "markdown",
   "metadata": {},
   "source": [
    "Выясните, чем отличается задание поля x через \"self.x =\"от объявления метода с декоратором property"
   ]
  },
  {
   "cell_type": "markdown",
   "metadata": {
    "collapsed": true
   },
   "source": [
    "При использовании проперти не нужно писать геттеры и сеттеры, поле можно сделать приватным"
   ]
  },
  {
   "cell_type": "markdown",
   "metadata": {},
   "source": [
    "Напишите setter и getter для полей класса комплексного числа."
   ]
  },
  {
   "cell_type": "code",
   "execution_count": 53,
   "metadata": {
    "collapsed": true
   },
   "outputs": [],
   "source": [
    "    def get_x(self):\n",
    "        return self.__x\n",
    "\n",
    "    def set_x(self, x):\n",
    "        self.__x = x\n",
    "        \n",
    "    def get_y(self):\n",
    "        return self.__y\n",
    "\n",
    "    def set_y(self, y):\n",
    "        self.__y = y"
   ]
  },
  {
   "cell_type": "markdown",
   "metadata": {},
   "source": [
    "# Requests/urllib + BeautifulSoup\n",
    "Скачайте html-код страницы с новостью с любого новостного сайта и, рас-\n",
    "парсив его с помощью библиотеки Beautiful Soup или любой другой анало-\n",
    "гичной, получите текст статьи (без html-тегов или вкраплений java script).\n"
   ]
  },
  {
   "cell_type": "code",
   "execution_count": 56,
   "metadata": {
    "collapsed": false
   },
   "outputs": [
    {
     "name": "stdout",
     "output_type": "stream",
     "text": [
      "Аспирант МГУ жестоко избил самодельным копьем женщину-охранника студенческого общежития. Об этом сообщает РИА Новости со ссылкой на представителя столичного главка МВД.«Сотрудниками полиции был задержан 24-летний аспирант механико-математического факультета МГУ, который по неустановленным причинам нанес телесные повреждения 62-летней женщине-охраннику», — рассказал Андрей Галиакберов. По его словам, молодой человек использовал в качестве оружия металлическую палку с прикрепленным к ней ножом. Женщину доставили в больницу с черепно-мозговой травмой и переломом руки. Мотивы действий аспиранта выясняются.По словам очевидцев, молодой человек был невменяем и кричал, сообщает LifeNews. Женщина-охранник попыталась его усмирить, она же вызвала полицию.Нападавший задержан и направлен в психиатрическую больницу для оказания экстренной помощи. Возбуждено уголовное дело по статье «Умышленное причинение тяжкого вреда здоровью». Максимальное наказание по ней составляет десять лет лишения свободы.\n"
     ]
    }
   ],
   "source": [
    "url = \"http://lenta.ru/news/2015/11/11/aspirant/\"\n",
    "\n",
    "import requests\n",
    "from bs4 import BeautifulSoup\n",
    "\n",
    "text = requests.get(url).text\n",
    "bs4_object = BeautifulSoup(text, \"lxml\")\n",
    "\n",
    "print (bs4_object.find(itemprop=\"articleBody\").text)\n"
   ]
  },
  {
   "cell_type": "markdown",
   "metadata": {},
   "source": [
    "# NumPy\n",
    "Создайте numpy.ndarray размерностью 3x4x2 и продемонстрируйте разные способы обращения по индексам из документации NumPy."
   ]
  },
  {
   "cell_type": "code",
   "execution_count": 66,
   "metadata": {
    "collapsed": false
   },
   "outputs": [
    {
     "name": "stdout",
     "output_type": "stream",
     "text": [
      "[[[-334511080        404]\n",
      "  [        64          0]\n",
      "  [1647587683          0]\n",
      "  [ 926365488          0]]\n",
      "\n",
      " [[         0          0]\n",
      "  [ 943143225 1650668389]\n",
      "  [ 859320886          0]\n",
      "  [ 959799654  912339764]]\n",
      "\n",
      " [[ 912406883 1647851061]\n",
      "  [ 828793699 -359661884]\n",
      "  [1633825585  828453428]\n",
      "  [ 825713763  895825460]]]\n",
      "***********************************\n",
      "-334511080\n",
      "***********************************\n",
      "[-334511080        404]\n",
      "***********************************\n",
      "[[-334511080        404]\n",
      " [        64          0]\n",
      " [1647587683          0]\n",
      " [ 926365488          0]]\n",
      "***********************************\n",
      "[[        64          0]\n",
      " [ 943143225 1650668389]\n",
      " [ 828793699 -359661884]]\n"
     ]
    }
   ],
   "source": [
    "import numpy as np\n",
    "arr = np.ndarray(shape=(3,4,2), dtype=int, order='F')\n",
    "\n",
    "print(arr)\n",
    "print(\"***********************************\")\n",
    "print(arr[0,0,0])\n",
    "print(\"***********************************\")\n",
    "print(arr[0,0])\n",
    "print(\"***********************************\")\n",
    "print(arr[0])\n",
    "print(\"***********************************\")\n",
    "print (arr[:,1])"
   ]
  },
  {
   "cell_type": "markdown",
   "metadata": {},
   "source": [
    "Попробуйте сравнить по производительности numpy.array и list, выполняя какую-то стандартную операцию с каждым из типов много\n",
    "раз."
   ]
  },
  {
   "cell_type": "code",
   "execution_count": 82,
   "metadata": {
    "collapsed": false
   },
   "outputs": [
    {
     "name": "stdout",
     "output_type": "stream",
     "text": [
      "0.47266652740836435 seconds\n",
      "15.308273876868043 seconds\n"
     ]
    }
   ],
   "source": [
    "arr = np.ndarray(shape=(80000), dtype=int, order='F')\n",
    "start_time = time.clock()\n",
    "for x in range(0, 300000):\n",
    "    numpy.flipud(arr)\n",
    "print (time.clock() - start_time, \"seconds\")\n",
    "\n",
    "list = [x for x in range(80000)]\n",
    "start_time = time.clock()\n",
    "for x in range(0, 300000):\n",
    "    list.reverse()\n",
    "print (time.clock() - start_time, \"seconds\")"
   ]
  },
  {
   "cell_type": "markdown",
   "metadata": {},
   "source": [
    "Изучите numpy.linspace(), напишите свою реализацию аналогичной функции с помощью list comprehension, дающий тот же результат, только в виде list, а не numpy.ndarray. Сравните по производительности два варианта на достаточно больших массивах."
   ]
  },
  {
   "cell_type": "code",
   "execution_count": 73,
   "metadata": {
    "collapsed": false
   },
   "outputs": [
    {
     "name": "stdout",
     "output_type": "stream",
     "text": [
      "1.1470699973870069e-05 seconds\n",
      "[-3.0, -2.0, -1.0, 0.0, 1.0, 2.0, 3.0]\n",
      "9.055816917680204e-06 seconds\n",
      "[2.0, 2.25, 2.5, 2.75, 3.0]\n",
      "7.244652806548402e-06 seconds\n",
      "[2.0, 2.4, 2.8, 3.2, 3.6]\n",
      "6.6409320425009355e-06 seconds\n",
      "([2.0, 2.25, 2.5, 2.75, 3.0], 0.25)\n",
      "time initial:\n",
      "0.08332558557958691 seconds\n",
      "time fot list comprehension:\n",
      "3.1138678357929166 seconds\n",
      "finished\n"
     ]
    }
   ],
   "source": [
    "def listlinspace(*args, **kwargs):\n",
    "    start_time = time.clock()\n",
    "    num = kwargs.get('num', 50)\n",
    "    endpoint = kwargs.get('endpoint', True)\n",
    "    retstep = kwargs.get('retstep', False)\n",
    "    start = args[0]\n",
    "    end = args[1]\n",
    "    if (len(args)>2):\n",
    "        num = args[2]\n",
    "    ret = [(end-start)/(num-1*endpoint)*i+start for i in range(num)]\n",
    "    print (time.clock() - start_time, \"seconds\")\n",
    "    if(retstep):\n",
    "        return (ret, (end-start)/(num-1*endpoint))\n",
    "    return ret\n",
    "\n",
    "\n",
    "print(listlinspace(-3.0, 3.0, 7))\n",
    "print(listlinspace(2.0, 3.0, num=5))\n",
    "print(listlinspace(2.0, 4.0, num=5, endpoint=False, dtype=int))\n",
    "print(listlinspace(2.0, 3.0, num=5, retstep=True))\n",
    "\n",
    "def timelinspace(*args, **kwargs):\n",
    "    start_time = time.clock()\n",
    "    ret = np.linspace(*args, **kwargs)\n",
    "    print (time.clock() - start_time, \"seconds\")\n",
    "    return ret\n",
    "\n",
    "\n",
    "print (\"time initial:\")\n",
    "timelinspace(-300.0, 300.0, 7000000)\n",
    "\n",
    "print (\"time fot list comprehension:\")\n",
    "listlinspace(-300.0, 300.0, 7000000)\n",
    "\n",
    "print(\"finished\")"
   ]
  },
  {
   "cell_type": "markdown",
   "metadata": {},
   "source": [
    "# Matplotlib\n",
    "Что делает в Ipython Notebook команда %matplotlib inline?"
   ]
  },
  {
   "cell_type": "markdown",
   "metadata": {
    "collapsed": true
   },
   "source": [
    "Построенные графики встваляются прямо в блокнот"
   ]
  },
  {
   "cell_type": "markdown",
   "metadata": {},
   "source": [
    "Используя numpy.linspace и генераторы, постройте в matplotlib график какой-нибудь элементарной функции. В минимальном варианте вам потребуются только pyplot из matplotlib и методы pyplot.plot() и pyplot.show(). Помните, что если импортируете модуль под каким-то именем (например, plt), то обращаться надо уже к нему, а не к pyplot.\n"
   ]
  },
  {
   "cell_type": "code",
   "execution_count": 74,
   "metadata": {
    "collapsed": false
   },
   "outputs": [
    {
     "data": {
      "image/png": "[encoded data removed]",
      "text/plain": [
       "<matplotlib.figure.Figure at 0x194edb19710>"
      ]
     },
     "metadata": {},
     "output_type": "display_data"
    }
   ],
   "source": [
    "% matplotlib inline\n",
    "from matplotlib import pylab as plt\n",
    "plt.plot(np.linspace(-2, 2), [z ** 2 for z in  np.linspace(-2, 2)])\n",
    "plt.show()"
   ]
  },
  {
   "cell_type": "markdown",
   "metadata": {},
   "source": [
    "Постройте графики еще нескольких элементарных функций (на том же рисунке) и сделайте к ним подписи (легенду) с формулами (в подписях можно использовать LATEX, как обычно, в знаках $). Добавьте какие-нибудь подписи к осям координат и название графика. Сохраните изображение в файл одной строчкой на Python."
   ]
  },
  {
   "cell_type": "code",
   "execution_count": 76,
   "metadata": {
    "collapsed": false
   },
   "outputs": [
    {
     "data": {
      "image/png": "[encoded data removed]",
      "text/plain": [
       "<matplotlib.figure.Figure at 0x194ee5a99e8>"
      ]
     },
     "metadata": {},
     "output_type": "display_data"
    }
   ],
   "source": [
    "fig = plt.figure()\n",
    "fig.suptitle('My Graphs', fontsize=14, fontweight='bold')\n",
    "\n",
    "ax = fig.add_subplot(111)\n",
    "ax.set_xlabel('x')\n",
    "ax.set_ylabel('y')\n",
    "ax.plot(np.linspace(-2, 2), [0 for z in  np.linspace(-2, 2)], label='y=0')\n",
    "ax.plot(np.linspace(-2, 2), [z  for z in  np.linspace(-2, 2)], label='y=x')\n",
    "ax.plot(np.linspace(-2, 2), [z ** 2 for z in  np.linspace(-2, 2)], label='y=x^2')\n",
    "ax.plot(np.linspace(-2, 2), [z ** 3 for z in  np.linspace(-2, 2)], label='y=x^3')\n",
    "ax.plot(np.linspace(-2, 2), [z ** 4 for z in  np.linspace(-2, 2)], label='y=x^4')\n",
    "\n",
    "# Now add the legend with some customizations.\n",
    "legend = ax.legend()\n",
    "\n",
    "plt.savefig('secondPlot.png')    \n",
    "plt.show()"
   ]
  },
  {
   "cell_type": "markdown",
   "metadata": {},
   "source": [
    "Изучите документацию matplotlib и попробуйте построить на одном изображении 4 системы координат, на верхних двух - квадратичную и кубическую параболы, на нижних - экспоненту и логарифм."
   ]
  },
  {
   "cell_type": "code",
   "execution_count": 99,
   "metadata": {
    "collapsed": false
   },
   "outputs": [
    {
     "data": {
      "image/png": "[encoded data removed]",
      "text/plain": [
       "<matplotlib.figure.Figure at 0x194f0b79160>"
      ]
     },
     "metadata": {},
     "output_type": "display_data"
    }
   ],
   "source": [
    "import math\n",
    "x = np.linspace(-2, 2)\n",
    "\n",
    "plt.figure(1)\n",
    "plt.subplot(221)\n",
    "plt.title('square')\n",
    "plt.plot(x, [y**2 for y in  np.linspace(-2, 2)])\n",
    "\n",
    "plt.subplot(222)\n",
    "plt.title('cube')\n",
    "plt.plot(x, [y**3 for y in  np.linspace(-2, 2)])\n",
    "\n",
    "plt.subplot(223)\n",
    "plt.title('log')\n",
    "plt.plot(np.linspace(0.00001, 2), [math.log(y) for y in  np.linspace(0.00001, 2)])\n",
    "\n",
    "plt.subplot(224)\n",
    "plt.title('exp')\n",
    "plt.plot(x, [math.exp(y) for y in  np.linspace(-2, 2)])\n",
    "plt.show()"
   ]
  },
  {
   "cell_type": "markdown",
   "metadata": {},
   "source": [
    "Изучите вопрос построения heatmap и изобразите его для функции f(x, y) = 3xy + x − 2y в области [0; 5]2\n"
   ]
  },
  {
   "cell_type": "code",
   "execution_count": 90,
   "metadata": {
    "collapsed": false
   },
   "outputs": [
    {
     "data": {
      "image/png": "[encoded data removed]",
      "text/plain": [
       "<matplotlib.figure.Figure at 0x194f00f2240>"
      ]
     },
     "metadata": {},
     "output_type": "display_data"
    }
   ],
   "source": [
    "def f(x,y):\n",
    "    return 3*x*y + x - 2*y\n",
    "\n",
    "x = np.arange(0.0,5.0,0.01)\n",
    "y = np.arange(0.0,5.0,0.01)\n",
    "\n",
    "X,Y = np.meshgrid(x, y)\n",
    "Z =f(X,Y)\n",
    "plt.pcolormesh(X,Y,Z)\n",
    "plt.imshow(Z, extent=[0,5,5,0])\n",
    "plt.colorbar()\n",
    "plt.show()"
   ]
  },
  {
   "cell_type": "markdown",
   "metadata": {},
   "source": [
    "А теперь постройте трехмерный график той же функции в той же области."
   ]
  },
  {
   "cell_type": "code",
   "execution_count": 105,
   "metadata": {
    "collapsed": false
   },
   "outputs": [
    {
     "data": {
      "image/png": "[encoded data removed]",
      "text/plain": [
       "<matplotlib.figure.Figure at 0x194ee5b9c88>"
      ]
     },
     "metadata": {},
     "output_type": "display_data"
    }
   ],
   "source": [
    "import numpy as np\n",
    "from mpl_toolkits.mplot3d import Axes3D\n",
    "import matplotlib.pyplot as plt\n",
    "import random\n",
    "\n",
    "\n",
    "fig = plt.figure()\n",
    "ax = fig.add_subplot(111, projection='3d')\n",
    "\n",
    "zs = np.array([f(x,y) for x,y in zip(np.ravel(X), np.ravel(Y))])\n",
    "Z = zs.reshape(X.shape)\n",
    "\n",
    "ax.plot_surface(X, Y, Z)\n",
    "\n",
    "ax.set_xlabel('X Label')\n",
    "ax.set_ylabel('Y Label')\n",
    "ax.set_zlabel('Z Label')\n",
    "\n",
    "plt.show()"
   ]
  },
  {
   "cell_type": "markdown",
   "metadata": {},
   "source": [
    "# Всё вместе + SciPy\n",
    "Сгенерируйте точки (y, x) (500 будет достаточно), удовлетворяющие зависимости y = x3 + 2x2 − 3x + 2, затем, с помощью numpy.random добавьте к координатам y нормальный шум. С помощью scipy восстановите исходную зависимость, считая известной степень полинома. Вам поможет curvefit или scipy.optimize.minimize, запущенный для суммы квадратичных отклонений. У восстановленной зависимости найдите экстремумы численно. Покажите на графике все вместе: исходные точки, восстановленную зависимость, найденные экстремумы.\n",
    "Дополнительное задание: подберите коэффициенты многочлена, точно проходящего через точки (без добавления нормального шума), составив и решив с помощью scipy систему линейных уравнений.\n"
   ]
  },
  {
   "cell_type": "code",
   "execution_count": null,
   "metadata": {
    "collapsed": true
   },
   "outputs": [],
   "source": []
  },
  {
   "cell_type": "markdown",
   "metadata": {},
   "source": [
    "# Pandas + Scikit-learn\n",
    "Считайте выборку из примера про детектирование кожи на фотографии с семинара с помощью библиотеки pandas. Продемонстрируйте индексацию по строкам и столбцам, labeled-based и index-based. Добавьте в DataFrame столбцы, соответствующие попарным произведениям признаков и модулям попарных разностей. Запустите на исходных признаках и на модифицированных KNeighboursClassifier, LogisticRegression и Random Forest из sklearn и сравните качество работы каждого метода до и после преобразования признаков.\n"
   ]
  },
  {
   "cell_type": "code",
   "execution_count": null,
   "metadata": {
    "collapsed": true
   },
   "outputs": [],
   "source": []
  },
  {
   "cell_type": "markdown",
   "metadata": {},
   "source": [
    "# Дополнительное задание: Bokeh\n",
    "Выполните упражнения из tutorial: http://bokeh.pydata.org/en/latest/tutorial/index.html"
   ]
  },
  {
   "cell_type": "markdown",
   "metadata": {
    "collapsed": true
   },
   "source": [
    "Разобрать http://nbviewer.jupyter.org/github/bokeh/bokeh-notebooks/blob/master/tutorial/01%20-%20plotting.ipynb"
   ]
  },
  {
   "cell_type": "code",
   "execution_count": null,
   "metadata": {
    "collapsed": true
   },
   "outputs": [],
   "source": []
  }
 ],
 "metadata": {
  "kernelspec": {
   "display_name": "Python 3",
   "language": "python",
   "name": "python3"
  },
  "language_info": {
   "codemirror_mode": {
    "name": "ipython",
    "version": 3
   },
   "file_extension": ".py",
   "mimetype": "text/x-python",
   "name": "python",
   "nbconvert_exporter": "python",
   "pygments_lexer": "ipython3",
   "version": "3.6.0"
  }
 },
 "nbformat": 4,
 "nbformat_minor": 2
}
