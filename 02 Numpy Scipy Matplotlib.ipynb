{
 "cells": [
  {
   "cell_type": "markdown",
   "metadata": {},
   "source": [
    "# Задание по numpy\n",
    "1. Напишите свой аналог np.linspace с использованием цикла и с использованием list comprehension. Сравните все три варианта по производительности\n",
    "1. Сравните по производительности основные операции с массивами (array) numpy и с list"
   ]
  },
  {
   "cell_type": "code",
   "execution_count": 38,
   "metadata": {
    "collapsed": false
   },
   "outputs": [
    {
     "name": "stdout",
     "output_type": "stream",
     "text": [
      "[-3. -2. -1.  0.  1.  2.  3.]\n",
      "[ 2.    2.25  2.5   2.75  3.  ]\n",
      "[2 2 2 3 3]\n",
      "(array([ 2.  ,  2.25,  2.5 ,  2.75,  3.  ]), 0.25)\n",
      "0.00014066701521642244 seconds\n",
      "[-3. -2. -1.  0.  1.  2.  3.]\n",
      "8.6332116666199e-05 seconds\n",
      "[ 2.    2.25  2.5   2.75  3.  ]\n",
      "0.00034713962975274626 seconds\n",
      "[2 2 2 3 3]\n",
      "0.00012134794019402761 seconds\n",
      "(array([ 2.  ,  2.25,  2.5 ,  2.75,  3.  ]), 0.25)\n",
      "3.0186054800651618e-05 seconds\n",
      "[-3. -2. -1.  0.  1.  2.  3.]\n",
      "2.475256496836664e-05 seconds\n",
      "[ 2.    2.25  2.5   2.75  3.  ]\n",
      "2.6563728170003742e-05 seconds\n",
      "[2 2 2 3 3]\n",
      "2.4752564854679804e-05 seconds\n",
      "(array([ 2.  ,  2.25,  2.5 ,  2.75,  3.  ]), 0.25)\n",
      "time initial:\n",
      "0.0005161815364544964 seconds\n",
      "time fot loop:\n",
      "2.97744256499368 seconds\n",
      "time fot list comprehension:\n",
      "0.030282650142339662 seconds\n",
      "finished\n"
     ]
    }
   ],
   "source": [
    "import numpy as np\n",
    "\n",
    "print(np.linspace(-3.0, 3.0, 7))\n",
    "print(np.linspace(2.0, 3.0, num=5))\n",
    "print(np.linspace(2.0, 4.0, num=5, endpoint=False, dtype=int))\n",
    "print(np.linspace(2.0, 3.0, num=5, retstep=True))\n",
    "\n",
    "\n",
    "import time\n",
    "\n",
    "def timelinspace(*args, **kwargs):\n",
    "    start_time = time.clock()\n",
    "    ret = np.linspace(*args, **kwargs)\n",
    "    print (time.clock() - start_time, \"seconds\")\n",
    "    return ret\n",
    "\n",
    "\n",
    "def looplinspace(*args, **kwargs):\n",
    "    start_time = time.clock()\n",
    "    num = kwargs.get('num', 50)\n",
    "    endpoint = kwargs.get('endpoint', True)\n",
    "    retstep = kwargs.get('retstep', False)\n",
    "    start = args[0]\n",
    "    end = args[1]\n",
    "    if (len(args)>2):\n",
    "        num = args[2]\n",
    "    if (num>0):\n",
    "        ret = np.array(start)\n",
    "        for i in range(1, num):\n",
    "            ret = np.hstack((ret,(end-start)/(num-1*endpoint)*i+start))\n",
    "    else:\n",
    "        ret=np.array()\n",
    "    dtype = kwargs.get('dtype', ret.dtype)\n",
    "    ret = ret.astype(dtype)\n",
    "#    print(start, end, num, endpoint, retstep, dtype)\n",
    "    print (time.clock() - start_time, \"seconds\")\n",
    "    if(retstep):\n",
    "        return (ret, (end-start)/(num-1*endpoint))\n",
    "    return ret\n",
    "\n",
    "\n",
    "print(looplinspace(-3.0, 3.0, 7))\n",
    "print(looplinspace(2.0, 3.0, num=5))\n",
    "print(looplinspace(2.0, 4.0, num=5, endpoint=False, dtype=int))\n",
    "print(looplinspace(2.0, 3.0, num=5, retstep=True))\n",
    "\n",
    "def listlinspace(*args, **kwargs):\n",
    "    start_time = time.clock()\n",
    "    num = kwargs.get('num', 50)\n",
    "    endpoint = kwargs.get('endpoint', True)\n",
    "    retstep = kwargs.get('retstep', False)\n",
    "    start = args[0]\n",
    "    end = args[1]\n",
    "    if (len(args)>2):\n",
    "        num = args[2]\n",
    "    ret = [(end-start)/(num-1*endpoint)*i+start for i in range(num)]\n",
    "    ret = np.array(ret)\n",
    "    dtype = kwargs.get('dtype', ret.dtype)\n",
    "    ret = ret.astype(dtype)\n",
    "#    print(start, end, num, endpoint, retstep, dtype)\n",
    "    print (time.clock() - start_time, \"seconds\")\n",
    "    if(retstep):\n",
    "        return (ret, (end-start)/(num-1*endpoint))\n",
    "    return ret\n",
    "\n",
    "\n",
    "print(listlinspace(-3.0, 3.0, 7))\n",
    "print(listlinspace(2.0, 3.0, num=5))\n",
    "print(listlinspace(2.0, 4.0, num=5, endpoint=False, dtype=int))\n",
    "print(listlinspace(2.0, 3.0, num=5, retstep=True))\n",
    "\n",
    "\n",
    "print (\"time initial:\")\n",
    "timelinspace(-300.0, 300.0, 70000)\n",
    "\n",
    "print (\"time fot loop:\")\n",
    "looplinspace(-300.0, 300.0, 70000)\n",
    "\n",
    "print (\"time fot list comprehension:\")\n",
    "listlinspace(-300.0, 300.0, 70000)\n",
    "\n",
    "print(\"finished\")"
   ]
  },
  {
   "cell_type": "markdown",
   "metadata": {},
   "source": [
    "# Задание по Matplotlib\n",
    "1. Добавьте подписи к осям и легенду к примеру выше (см. документацию)\n",
    "1. Постройте график с 5 разными элементарными функциями и сделайте легенду к графику в TeXe\n",
    "1. Сохраните рисунок в файл строчкой кода на Python"
   ]
  },
  {
   "cell_type": "code",
   "execution_count": 39,
   "metadata": {
    "collapsed": true
   },
   "outputs": [],
   "source": [
    "% matplotlib inline"
   ]
  },
  {
   "cell_type": "code",
   "execution_count": 61,
   "metadata": {
    "collapsed": false
   },
   "outputs": [
    {
     "data": {
      "image/png": "[encoded data removed]",
      "text/plain": [
       "<matplotlib.figure.Figure at 0x203994a89b0>"
      ]
     },
     "metadata": {},
     "output_type": "display_data"
    }
   ],
   "source": [
    "from matplotlib import pylab as plt\n",
    "fig = plt.figure()\n",
    "fig.suptitle('My Graphs', fontsize=14, fontweight='bold')\n",
    "\n",
    "ax = fig.add_subplot(111)\n",
    "ax.set_xlabel('x')\n",
    "ax.set_ylabel('y')\n",
    "ax.plot(np.linspace(-2, 2), [0 for z in  np.linspace(-2, 2)], label='y=0')\n",
    "ax.plot(np.linspace(-2, 2), [z  for z in  np.linspace(-2, 2)], label='y=x')\n",
    "ax.plot(np.linspace(-2, 2), [z ** 2 for z in  np.linspace(-2, 2)], label='y=x^2')\n",
    "ax.plot(np.linspace(-2, 2), [z ** 3 for z in  np.linspace(-2, 2)], label='y=x^3')\n",
    "ax.plot(np.linspace(-2, 2), [z ** 4 for z in  np.linspace(-2, 2)], label='y=x^4')\n",
    "\n",
    "# Now add the legend with some customizations.\n",
    "legend = ax.legend()\n",
    "\n",
    "plt.savefig('firstPlot.png')    \n",
    "plt.show()"
   ]
  },
  {
   "cell_type": "code",
   "execution_count": null,
   "metadata": {
    "collapsed": true
   },
   "outputs": [],
   "source": []
  }
 ],
 "metadata": {
  "kernelspec": {
   "display_name": "Python 3",
   "language": "python",
   "name": "python3"
  }
 },
 "nbformat": 4,
 "nbformat_minor": 2
}
