{
 "cells": [
  {
   "cell_type": "code",
   "execution_count": 23,
   "metadata": {
    "collapsed": false
   },
   "outputs": [
    {
     "data": {
      "text/plain": [
       "[9, 7, 5, 0]"
      ]
     },
     "execution_count": 23,
     "metadata": {},
     "output_type": "execute_result"
    }
   ],
   "source": [
    "def QuickSort(arr):\n",
    "    if len(arr) > 1:\n",
    "        base_elem = arr[0]\n",
    "        less = list()\n",
    "        more = list()\n",
    "        for a in arr[1:]:\n",
    "            if a > base_elem:\n",
    "                more.append(a)\n",
    "            else:\n",
    "                less.append(a)\n",
    "        return QuickSort(more)+[base_elem]+QuickSort(less)\n",
    "    else:\n",
    "        return arr\n",
    "        \n",
    "QuickSort([5,7,0,9])\n",
    "\n",
    "#    for i in range(1, len(arr)):\n",
    "#        arr[i]"
   ]
  },
  {
   "cell_type": "code",
   "execution_count": 53,
   "metadata": {
    "collapsed": false
   },
   "outputs": [
    {
     "name": "stdout",
     "output_type": "stream",
     "text": [
      "chetnoe\n"
     ]
    }
   ],
   "source": [
    "x = 2\n",
    "print \"chetnoe\" if x % 2 == 0 else \"nechentnoe\""
   ]
  },
  {
   "cell_type": "code",
   "execution_count": 63,
   "metadata": {
    "collapsed": false
   },
   "outputs": [
    {
     "data": {
      "text/plain": [
       "[9, 7, 5, 0]"
      ]
     },
     "execution_count": 63,
     "metadata": {},
     "output_type": "execute_result"
    }
   ],
   "source": [
    "def QuickSort(arr):\n",
    "#    less = list()\n",
    "#    more = list()\n",
    "#    for a in arr[1:]:\n",
    "#        more = more + [[a],[]][a<=arr[0]]\n",
    "#        less = less + [[a],[]][a>=arr[0]]\n",
    "    more = [a for a in arr[1:] if a>arr[0]]\n",
    "    less = [a for a in arr[1:] if a<arr[0]]\n",
    "    return [] if len(arr)<1 else [more,QuickSort(more)][len(more)>1]+[arr[0]]+[less,QuickSort(less)][len(less)>1]\n",
    "        \n",
    "QuickSort([5,7,0,9])\n",
    "\n",
    "\n",
    "#optional-fibonacci+savetime\n",
    "#xead.wl@gmail.com\n",
    "#from github"
   ]
  },
  {
   "cell_type": "code",
   "execution_count": null,
   "metadata": {
    "collapsed": true
   },
   "outputs": [],
   "source": []
  },
  {
   "cell_type": "code",
   "execution_count": null,
   "metadata": {
    "collapsed": true
   },
   "outputs": [],
   "source": []
  }
 ],
 "metadata": {
  "kernelspec": {
   "display_name": "Python [conda root]",
   "language": "python",
   "name": "conda-root-py"
  },
  "language_info": {
   "codemirror_mode": {
    "name": "ipython",
    "version": 2
   },
   "file_extension": ".py",
   "mimetype": "text/x-python",
   "name": "python",
   "nbconvert_exporter": "python",
   "pygments_lexer": "ipython2",
   "version": "2.7.12"
  }
 },
 "nbformat": 4,
 "nbformat_minor": 1
}
