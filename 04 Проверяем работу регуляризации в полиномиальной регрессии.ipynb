{
 "cells": [
  {
   "cell_type": "markdown",
   "metadata": {},
   "source": [
    "## Проверяем работу регуляризации в полиномиальной регрессии\n",
    "1. Генерируем выборку для нашего примера\n",
    "1. Делаем восстановление зависимости полиномом\n",
    "1. Строим график восстановленной зависимости для разных С\n",
    "\n",
    "Соответствует лекции 11"
   ]
  },
  {
   "cell_type": "code",
   "execution_count": 26,
   "metadata": {
    "collapsed": false
   },
   "outputs": [
    {
     "name": "stdout",
     "output_type": "stream",
     "text": [
      "[-5.         -4.79591837 -4.59183673 -4.3877551  -4.18367347 -3.97959184\n",
      " -3.7755102  -3.57142857 -3.36734694 -3.16326531 -2.95918367 -2.75510204\n",
      " -2.55102041 -2.34693878 -2.14285714 -1.93877551 -1.73469388 -1.53061224\n",
      " -1.32653061 -1.12244898 -0.91836735 -0.71428571 -0.51020408 -0.30612245\n",
      " -0.10204082  0.10204082  0.30612245  0.51020408  0.71428571  0.91836735\n",
      "  1.12244898  1.32653061  1.53061224  1.73469388  1.93877551  2.14285714\n",
      "  2.34693878  2.55102041  2.75510204  2.95918367  3.16326531  3.36734694\n",
      "  3.57142857  3.7755102   3.97959184  4.18367347  4.3877551   4.59183673\n",
      "  4.79591837  5.        ]\n"
     ]
    }
   ],
   "source": [
    "import numpy as np\n",
    "L = 50 #количество  точек обучающей выборки\n",
    "x = np.linspace(-5, 5, 50)\n",
    "print x"
   ]
  },
  {
   "cell_type": "code",
   "execution_count": 27,
   "metadata": {
    "collapsed": false
   },
   "outputs": [
    {
     "name": "stdout",
     "output_type": "stream",
     "text": [
      "[  2.02500000e+01   1.44997633e+01   9.63891559e+00   5.58190304e+00\n",
      "   2.24733521e+00  -4.42015214e-01  -2.55921232e+00  -4.17315702e+00\n",
      "  -5.34858701e+00  -6.14607681e+00  -6.62203773e+00  -6.82871790e+00\n",
      "  -6.81420222e+00  -6.62241242e+00  -6.29310704e+00  -5.86188140e+00\n",
      "  -5.36016764e+00  -4.81523469e+00  -4.25018830e+00  -3.68397101e+00\n",
      "  -3.13136217e+00  -2.60297793e+00  -2.10527124e+00  -1.64053187e+00\n",
      "  -1.20688637e+00  -7.98298111e-01  -4.04567261e-01  -1.13307901e-02\n",
      "   3.99937526e-01   8.51927109e-01   1.37149058e+00   1.98964374e+00\n",
      "   2.74156562e+00   3.66659842e+00   4.80824754e+00   6.21418159e+00\n",
      "   7.93623236e+00   1.00303948e+01   1.25568272e+01   1.55798509e+01\n",
      "   1.91679505e+01   2.33937737e+01   2.83341316e+01   3.40699983e+01\n",
      "   4.06865112e+01   4.82729708e+01   5.69228409e+01   6.67337485e+01\n",
      "   7.78074838e+01   9.02500000e+01]\n"
     ]
    }
   ],
   "source": [
    "def true_poly(x):\n",
    "    return 0.1*x**4 + 0.2*x**3 - 0.25*x**2 + 2*x - 1\n",
    "y= true_poly(x)\n",
    "print y"
   ]
  },
  {
   "cell_type": "code",
   "execution_count": 28,
   "metadata": {
    "collapsed": false
   },
   "outputs": [],
   "source": [
    "import matplotlib.pylab as plt"
   ]
  },
  {
   "cell_type": "code",
   "execution_count": 29,
   "metadata": {
    "collapsed": true
   },
   "outputs": [],
   "source": [
    "%matplotlib inline"
   ]
  },
  {
   "cell_type": "code",
   "execution_count": 30,
   "metadata": {
    "collapsed": false
   },
   "outputs": [
    {
     "data": {
      "text/plain": [
       "<function matplotlib.pyplot.show>"
      ]
     },
     "execution_count": 30,
     "metadata": {},
     "output_type": "execute_result"
    },
    {
     "data": {
      "image/png": "[encoded data removed]",
      "text/plain": [
       "<matplotlib.figure.Figure at 0x77789e8>"
      ]
     },
     "metadata": {},
     "output_type": "display_data"
    }
   ],
   "source": [
    "y_with_noise = y+6*np.random.randn(L)\n",
    "\n",
    "plt.plot(x, y_with_noise)\n",
    "plt.show"
   ]
  },
  {
   "cell_type": "code",
   "execution_count": 31,
   "metadata": {
    "collapsed": true
   },
   "outputs": [],
   "source": [
    "#2\n",
    "def poly(x, coeffs):\n",
    "    return sum([coeffs[k]*x**k for k in range(len(coeffs))])"
   ]
  },
  {
   "cell_type": "code",
   "execution_count": 32,
   "metadata": {
    "collapsed": false
   },
   "outputs": [
    {
     "data": {
      "text/plain": [
       "5.05"
      ]
     },
     "execution_count": 32,
     "metadata": {},
     "output_type": "execute_result"
    }
   ],
   "source": [
    "poly(1, [0.1, 4, 0.2, -0.25, 2, -1][::-1])"
   ]
  },
  {
   "cell_type": "code",
   "execution_count": 45,
   "metadata": {
    "collapsed": true
   },
   "outputs": [],
   "source": [
    "C=0\n",
    "def loss(coeffs):\n",
    "    loss = 0.0\n",
    "    for a, b in zip(x, y_with_noise):\n",
    "        loss += sum((poly(x, coeffs) - y_with_noise) **2)\n",
    "    loss += C*sum(coeffs**2)\n",
    "    return loss"
   ]
  },
  {
   "cell_type": "code",
   "execution_count": 50,
   "metadata": {
    "collapsed": false
   },
   "outputs": [],
   "source": [
    "from scipy.optimize import minimize\n",
    "\n",
    "result = minimize(loss, np.array([0.001]*(20))) #L-1"
   ]
  },
  {
   "cell_type": "code",
   "execution_count": 51,
   "metadata": {
    "collapsed": false
   },
   "outputs": [
    {
     "data": {
      "text/plain": [
       "<function matplotlib.pyplot.show>"
      ]
     },
     "execution_count": 51,
     "metadata": {},
     "output_type": "execute_result"
    },
    {
     "data": {
      "image/png": "[encoded data removed]",
      "text/plain": [
       "<matplotlib.figure.Figure at 0xaba8208>"
      ]
     },
     "metadata": {},
     "output_type": "display_data"
    }
   ],
   "source": [
    "plt.plot(x, y_with_noise)\n",
    "x_detailed = np.linspace(-5,5,500)\n",
    "plt.plot(x_detailed, poly(x_detailed, result.x))\n",
    "plt.show"
   ]
  },
  {
   "cell_type": "code",
   "execution_count": null,
   "metadata": {
    "collapsed": true
   },
   "outputs": [],
   "source": []
  }
 ],
 "metadata": {
  "kernelspec": {
   "display_name": "Python 3",
   "language": "python",
   "name": "python3"
  },
  "language_info": {
   "codemirror_mode": {
    "name": "ipython",
    "version": 3
   },
   "file_extension": ".py",
   "mimetype": "text/x-python",
   "name": "python",
   "nbconvert_exporter": "python",
   "pygments_lexer": "ipython3",
   "version": "3.6.0"
  }
 },
 "nbformat": 4,
 "nbformat_minor": 2
}
