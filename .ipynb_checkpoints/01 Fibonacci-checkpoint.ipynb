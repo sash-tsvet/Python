{
 "cells": [
  {
   "cell_type": "code",
   "execution_count": 1,
   "metadata": {
    "collapsed": false
   },
   "outputs": [
    {
     "name": "stdout",
     "output_type": "stream",
     "text": [
      "610\n"
     ]
    }
   ],
   "source": [
    "def Fibonacci_rec(a):\n",
    "    if a <= 0:\n",
    "        return  0\n",
    "    else:\n",
    "        if a == 1:\n",
    "            return 1\n",
    "        else:\n",
    "            return Fibonacci_rec(a-1)+ Fibonacci_rec(a-2)\n",
    "        \n",
    "print (Fibonacci_rec(15))\n"
   ]
  },
  {
   "cell_type": "code",
   "execution_count": 3,
   "metadata": {
    "collapsed": false
   },
   "outputs": [
    {
     "name": "stdout",
     "output_type": "stream",
     "text": [
      "610\n"
     ]
    }
   ],
   "source": [
    "def Fibonacci_loop(a):\n",
    "    fib0 = 0\n",
    "    fib1 = 1\n",
    "    sumf = 0\n",
    "\n",
    "    i = 1\n",
    "    while i<a:\n",
    "        sumf = fib0+fib1\n",
    "        fib0 = fib1\n",
    "        fib1 = sumf\n",
    "        i += 1\n",
    "        \n",
    "    return sumf;\n",
    "\n",
    "print (Fibonacci_loop(15))\n"
   ]
  },
  {
   "cell_type": "code",
   "execution_count": null,
   "metadata": {
    "collapsed": true
   },
   "outputs": [],
   "source": []
  }
 ],
 "metadata": {
  "kernelspec": {
   "display_name": "Python 3",
   "language": "python",
   "name": "python3"
  },
  "language_info": {
   "codemirror_mode": {
    "name": "ipython",
    "version": 3
   },
   "file_extension": ".py",
   "mimetype": "text/x-python",
   "name": "python",
   "nbconvert_exporter": "python",
   "pygments_lexer": "ipython3",
   "version": "3.6.0"
  }
 },
 "nbformat": 4,
 "nbformat_minor": 1
}
