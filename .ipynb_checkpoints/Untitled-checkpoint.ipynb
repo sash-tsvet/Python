{
 "cells": [
  {
   "cell_type": "code",
   "execution_count": 1,
   "metadata": {
    "collapsed": false
   },
   "outputs": [
    {
     "name": "stdout",
     "output_type": "stream",
     "text": [
      "7\n"
     ]
    }
   ],
   "source": [
    "def memorize(f):\n",
    "    memo = {}\n",
    "    def helper(*args, **kargs):\n",
    "        k = tuple(args)\n",
    "        if k not in memo:    \n",
    "            memo[k] = f(*args, **kargs)\n",
    "        return memo[k]\n",
    "    return helper\n",
    "    \n",
    "@memorize\n",
    "def ladder(n, m=3):\n",
    "    if n == 0:\n",
    "        return 1\n",
    "    elif n == 1 or n == -1:\n",
    "        return 0\n",
    "    else:\n",
    "        return ladder(n-2, 1) + ladder(n-3, 1)\n",
    "\n",
    "\n",
    "print(ladder(10, m=1))\n",
    "\n",
    "\n",
    "#tail recursion elimination decorator"
   ]
  },
  {
   "cell_type": "code",
   "execution_count": null,
   "metadata": {
    "collapsed": true
   },
   "outputs": [],
   "source": []
  }
 ],
 "metadata": {
  "kernelspec": {
   "display_name": "Python 3",
   "language": "python",
   "name": "python3"
  },
  "language_info": {
   "codemirror_mode": {
    "name": "ipython",
    "version": 3
   },
   "file_extension": ".py",
   "mimetype": "text/x-python",
   "name": "python",
   "nbconvert_exporter": "python",
   "pygments_lexer": "ipython3",
   "version": "3.6.0"
  }
 },
 "nbformat": 4,
 "nbformat_minor": 2
}
