{
 "cells": [
  {
   "cell_type": "code",
   "execution_count": 1,
   "metadata": {
    "collapsed": false
   },
   "outputs": [
    {
     "name": "stdout",
     "output_type": "stream",
     "text": [
      "10\n"
     ]
    }
   ],
   "source": [
    "#Вот так в Питоне выглядят комментарии\n",
    "'''комметарии таже могут быть \n",
    "многострочными.\n",
    "для начала объявим переменную и напечатаем ее значение'''\n",
    "a=10\n",
    "print a"
   ]
  },
  {
   "cell_type": "code",
   "execution_count": 2,
   "metadata": {
    "collapsed": false
   },
   "outputs": [
    {
     "name": "stdout",
     "output_type": "stream",
     "text": [
      "Hello world\n",
      "1\n",
      "1\n",
      "1\n"
     ]
    }
   ],
   "source": [
    "#объект создается когда вы присвиваите ему значение\n",
    "string = \"Hello world\"\n",
    "print string\n",
    "#возможно множественное присвоение значений\n",
    "a=b=c=1\n",
    "print a\n",
    "print b\n",
    "print c\n"
   ]
  },
  {
   "cell_type": "code",
   "execution_count": 14,
   "metadata": {
    "collapsed": false
   },
   "outputs": [
    {
     "name": "stdout",
     "output_type": "stream",
     "text": [
      "23\n",
      "8972351892\n",
      "6.78\n",
      "(1+0.14j)\n",
      "6\n",
      "6\n",
      "23.0\n",
      "(23+22j)\n"
     ]
    }
   ],
   "source": [
    "#рассмотрим подробнее числовые типы данных\n",
    "#в питoне их 4\n",
    "#int\n",
    "intnum = 23\n",
    "#long\n",
    "longnum = 8972351892L\n",
    "#float\n",
    "floatnum = 6.78\n",
    "#complex\n",
    "complexnum = 1+.14j\n",
    "\n",
    "print intnum\n",
    "print longnum\n",
    "print floatnum\n",
    "print complexnum\n",
    "\n",
    "#\n",
    "print int(floatnum)\n",
    "print long(floatnum)\n",
    "print float(intnum)\n",
    "print complex(23, 22)"
   ]
  },
  {
   "cell_type": "code",
   "execution_count": 4,
   "metadata": {
    "collapsed": false
   },
   "outputs": [
    {
     "name": "stdout",
     "output_type": "stream",
     "text": [
      "H\n",
      "Hello\n",
      "o, Pyt\n",
      "Hello, Python!\n",
      "Python!\n",
      "Hello\n",
      "Hello, Python!\n",
      "!\n",
      "\n",
      "Hlo yhn\n",
      "!nohtyP ,olleH\n",
      "Hello, Python!Nice to code you\n",
      "!!!!!!!!!!\n",
      "1\n"
     ]
    }
   ],
   "source": [
    "#теперь рассмотрим подробнее строки\n",
    "text = \"Hello, Python!\"\n",
    "print text[0] # Выводит первый символ\n",
    "print text[0:5] # Выводит подстроку text от 0 символа до 5 (включительно с нулевым, исключая пятый)\n",
    "print text[4:10] # Выведет строку от 4 символа до 10 (включая четвертый, исключая 10)\n",
    "print text[0:14] # Выведет всю строку\n",
    "print text[7:] # Выведет строку с 7 символа до конца\n",
    "print text[:5] # Выведет строку с начала до 5 символа. Аналогично print text[0:5]\n",
    "print text[:] # Выведет всю строку\n",
    "print text[-1] # Выводит последний символ\n",
    "print text[-1:-14] # Не сработает, выведет пустую строку\n",
    "print text[::2] # Третий аргумент - шаг. Выведет каждый второй символ\n",
    "print text[::-1] # Шаг отрицательный. Выведет фразу наоборот\n",
    "print text + \"Nice to code you\" # Выведет новую строку\n",
    "print text[-1] * 10 # Выведет 10 восклицательных знаков\n",
    "\n",
    "print str(10)[0]"
   ]
  },
  {
   "cell_type": "code",
   "execution_count": 5,
   "metadata": {
    "collapsed": true
   },
   "outputs": [],
   "source": [
    "#и, наконец, рассмотрим более сложные типы данных - списки, tuple, словари и сеты\n",
    "#..."
   ]
  },
  {
   "cell_type": "code",
   "execution_count": null,
   "metadata": {
    "collapsed": true
   },
   "outputs": [],
   "source": []
  }
 ],
 "metadata": {
  "anaconda-cloud": {},
  "kernelspec": {
   "display_name": "Python 3",
   "language": "python",
   "name": "python3"
  },
  "language_info": {
   "codemirror_mode": {
    "name": "ipython",
    "version": 3
   },
   "file_extension": ".py",
   "mimetype": "text/x-python",
   "name": "python",
   "nbconvert_exporter": "python",
   "pygments_lexer": "ipython3",
   "version": "3.6.0"
  }
 },
 "nbformat": 4,
 "nbformat_minor": 2
}
